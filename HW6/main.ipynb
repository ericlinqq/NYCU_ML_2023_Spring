{
 "cells": [
  {
   "cell_type": "code",
   "execution_count": 3,
   "metadata": {},
   "outputs": [],
   "source": [
    "import numpy as np\n",
    "import cv2\n",
    "import os\n",
    "import matplotlib.pyplot as plt\n",
    "from scipy.spatial.distance import pdist, squareform\n",
    "from imageio import mimsave\n",
    "%matplotlib inline"
   ]
  },
  {
   "attachments": {},
   "cell_type": "markdown",
   "metadata": {},
   "source": [
    "## Load Data"
   ]
  },
  {
   "cell_type": "code",
   "execution_count": 4,
   "metadata": {},
   "outputs": [],
   "source": [
    "def load_img(img_path):\n",
    "    img = cv2.imread(img_path)\n",
    "    height, width, channel = img.shape\n",
    "\n",
    "    return img.reshape(-1, channel), height, width"
   ]
  },
  {
   "cell_type": "code",
   "execution_count": 5,
   "metadata": {},
   "outputs": [],
   "source": [
    "img1, height1, width1 = load_img(\"./image1.png\")\n",
    "img2, height2, width2 = load_img('./image2.png')"
   ]
  },
  {
   "attachments": {},
   "cell_type": "markdown",
   "metadata": {},
   "source": [
    "## Kernel function\n",
    "<div align=\"center\">\n",
    "<img src=\"./img/kernel_function.png\" width = \"600\" alt=\"kernel function\" align=center />\n",
    "</div> "
   ]
  },
  {
   "attachments": {},
   "cell_type": "markdown",
   "metadata": {},
   "source": [
    "$S(x)$ is the spatial information (i.e. the coordinate of the pixel) of data $x$, and $C(x)$ is the color information (i.e. the RGB values) of data $x$. Both $\\gamma_{s}$ and $\\gamma_{c}$ are hyper-parameters which you can tune in your own way."
   ]
  },
  {
   "cell_type": "code",
   "execution_count": 6,
   "metadata": {},
   "outputs": [],
   "source": [
    "def kernel_function(img, width, gamma_s=0.001, gamma_c=0.001):\n",
    "    # Compute S (coordinate of the pixel)\n",
    "    n = len(img)\n",
    "    S = np.zeros((n, 2))\n",
    "    for i in range(n):\n",
    "        S[i] = [i // width, i % width]\n",
    "\n",
    "    K = squareform(np.exp(-gamma_s * pdist(S, 'sqeuclidean'))) * squareform(np.exp(-gamma_c * pdist(img, 'sqeuclidean')))\n",
    "\n",
    "    return K"
   ]
  },
  {
   "attachments": {},
   "cell_type": "markdown",
   "metadata": {},
   "source": [
    "## K means"
   ]
  },
  {
   "attachments": {},
   "cell_type": "markdown",
   "metadata": {},
   "source": [
    "### initialize centroid"
   ]
  },
  {
   "attachments": {},
   "cell_type": "markdown",
   "metadata": {},
   "source": [
    "* kmeans++  \n",
    "  1. Randomly pick one point as the first centroid.\n",
    "  2. For each point, compute the distance from its nearest selected centroids $D(x)$.\n",
    "  3. Calculate the probability of a point to be selected as the next centroid $\\frac{D(x)^2}{\\sum_{x \\isin X}D(x)^2}$.\n",
    "  4. Using Roulette wheel selection to select the next centroid.\n",
    "  5. Repeat 2. ~ 4. until k centroids has been selected.   \n",
    "> Roulette wheel selection: generate a radom number in interval 0 ~ 1, compare it to the cumulative probability, if it falls in the i-th interval, then the i-th point is selected as the next centroid."
   ]
  },
  {
   "cell_type": "code",
   "execution_count": 7,
   "metadata": {},
   "outputs": [],
   "source": [
    "def euclidean(point, data):\n",
    "    return np.sqrt(np.sum((point - data) ** 2, axis=1))"
   ]
  },
  {
   "cell_type": "code",
   "execution_count": 8,
   "metadata": {},
   "outputs": [],
   "source": [
    "def initialize_centroid(img, n_cluster=2, centroid_method='kmeans++'):\n",
    "    centroids = np.zeros((n_cluster, img.shape[1]))\n",
    "    if centroid_method == 'kmeans++':\n",
    "        # randomly pick one point as the first centroid\n",
    "        centroids[0] = img[np.random.choice(range(len(img)), size=1), :]\n",
    "\n",
    "        for c in range(1, n_cluster):\n",
    "            temp_dist = np.zeros((len(img), c))\n",
    "            # for i in range(len(img)):\n",
    "            for j in range(c):\n",
    "                    # compute distance\n",
    "                temp_dist[:, j] = euclidean(centroids[j], img)\n",
    "                    #temp_dist[i, j] = np.sqrt(np.sum((img[i] - centroids[j]) ** 2))\n",
    "                # for each data point, select the minimum distance (nearest centroid)\n",
    "            dists = np.min(temp_dist, axis=1)\n",
    "                # calulate probability\n",
    "            dists /= np.sum(dists)\n",
    "                # roulette wheel selection\n",
    "            new_centroid_idx = np.random.choice(range(len(img)), size=1, p=dists)\n",
    "            centroids[c] = img[new_centroid_idx]\n",
    "                # sum = np.sum(dist) * np.random.rand()\n",
    "                # for i in range(len(img)):\n",
    "                #     sum -= dist[i]\n",
    "                #     if sum <= 0:\n",
    "                #         centroids[c] = img[i]\n",
    "                #         break\n",
    "    elif centroid_method == 'random':\n",
    "        X_mean = np.mean(img, axis=0)\n",
    "        X_std = np.std(img, axis=0)\n",
    "        for c in range(img.shape[1]):\n",
    "            centroids[:, c] = np.random.normal(X_mean[c], X_std[c], size=n_cluster)\n",
    "    else:\n",
    "        raise Exception ('unavailable centroid method!')\n",
    "    \n",
    "    return centroids"
   ]
  },
  {
   "attachments": {},
   "cell_type": "markdown",
   "metadata": {},
   "source": [
    "### defined colormap"
   ]
  },
  {
   "cell_type": "code",
   "execution_count": 9,
   "metadata": {},
   "outputs": [],
   "source": [
    "np.random.seed(19990410)\n",
    "colormap = np.random.choice(range(256), size=(100, 3))"
   ]
  },
  {
   "attachments": {},
   "cell_type": "markdown",
   "metadata": {},
   "source": [
    "### assign cluster color"
   ]
  },
  {
   "cell_type": "code",
   "execution_count": 10,
   "metadata": {},
   "outputs": [],
   "source": [
    "def cluster_color(assigned_cluster, height, width, n_cluster=2):\n",
    "    color = colormap[:n_cluster, :]\n",
    "    res = np.zeros((len(assigned_cluster), 3), dtype=np.uint8)\n",
    "    for i in range(len(res)):\n",
    "        res[i, :] = color[assigned_cluster[i]]\n",
    "\n",
    "    return res.reshape(height, width, 3)"
   ]
  },
  {
   "attachments": {},
   "cell_type": "markdown",
   "metadata": {},
   "source": [
    "### k means\n",
    "<div align=\"center\">\n",
    "<img src=\"./img/k_means.png\" width = \"600\" alt=\"k means\" align=center />\n",
    "</div>"
   ]
  },
  {
   "cell_type": "code",
   "execution_count": 11,
   "metadata": {},
   "outputs": [],
   "source": [
    "def kmeans(X, height, width, n_cluster=2, centroid_method='kmeans++', EPS=1e-9):\n",
    "    init_mean = initialize_centroid(X, n_cluster, centroid_method)\n",
    "    assigned_cluster = np.zeros(len(X), dtype=np.uint8)\n",
    "    segment = []\n",
    "    n_iter = 1\n",
    "    \n",
    "    while True:\n",
    "        # E step\n",
    "        # for i in range(len(X)):\n",
    "        #     euclid_dist = []\n",
    "        #     for j in range(n_cluster):\n",
    "        #         euclid_dist.append(np.sqrt(np.sum((X[i] - init_mean[j]) ** 2)))\n",
    "        #     assigned_cluster[i] = np.argmin(euclid_dist)\n",
    "        euclid_dist = np.zeros((len(X), n_cluster))\n",
    "        for c in range(n_cluster):\n",
    "            euclid_dist[:, c] = (euclidean(init_mean[c], X))\n",
    "        assigned_cluster = np.argmin(euclid_dist, axis=1)\n",
    "            \n",
    "\n",
    "        # M step\n",
    "        new_mean = np.zeros(init_mean.shape)\n",
    "        for i in range(n_cluster):\n",
    "            assign_i = np.argwhere(assigned_cluster == i).reshape(-1)\n",
    "            for j in assign_i:\n",
    "                new_mean[i] += X[j]\n",
    "            if len(assign_i) > 0:\n",
    "                new_mean[i] /= len(assign_i)\n",
    "\n",
    "        diff = np.sum((new_mean - init_mean) ** 2)\n",
    "        init_mean = new_mean\n",
    "        assign_color = cluster_color(assigned_cluster, height, width, n_cluster)\n",
    "        segment.append(assign_color)\n",
    "\n",
    "        print(f\"Iteration {n_iter}\")\n",
    "        for i in range(n_cluster):\n",
    "            print(f\"cluster={i+1} : (N pixel assigned : {np.count_nonzero(assigned_cluster == i)})\")\n",
    "        print(f\"Difference : {diff}\")\n",
    "        print()\n",
    "        \n",
    "        n_iter += 1\n",
    "        if diff < EPS:\n",
    "            break\n",
    "        \n",
    "        \n",
    "    return assigned_cluster, segment"
   ]
  },
  {
   "attachments": {},
   "cell_type": "markdown",
   "metadata": {},
   "source": [
    "## Kernel K means"
   ]
  },
  {
   "cell_type": "code",
   "execution_count": 12,
   "metadata": {},
   "outputs": [
    {
     "ename": "KeyboardInterrupt",
     "evalue": "",
     "output_type": "error",
     "traceback": [
      "\u001b[0;31m---------------------------------------------------------------------------\u001b[0m",
      "\u001b[0;31mKeyboardInterrupt\u001b[0m                         Traceback (most recent call last)",
      "Cell \u001b[0;32mIn[12], line 2\u001b[0m\n\u001b[1;32m      1\u001b[0m W \u001b[39m=\u001b[39m kernel_function(img1, width\u001b[39m=\u001b[39m\u001b[39m100\u001b[39m, gamma_s\u001b[39m=\u001b[39m\u001b[39m0.001\u001b[39m, gamma_c\u001b[39m=\u001b[39m\u001b[39m0.00007\u001b[39m)\n\u001b[0;32m----> 2\u001b[0m assigned_cluster, segment \u001b[39m=\u001b[39m kmeans(W, height\u001b[39m=\u001b[39;49m\u001b[39m100\u001b[39;49m, width\u001b[39m=\u001b[39;49m\u001b[39m100\u001b[39;49m, n_cluster\u001b[39m=\u001b[39;49m\u001b[39m2\u001b[39;49m, centroid_method\u001b[39m=\u001b[39;49m\u001b[39m'\u001b[39;49m\u001b[39mkmeans++\u001b[39;49m\u001b[39m'\u001b[39;49m, EPS\u001b[39m=\u001b[39;49m\u001b[39m1e-9\u001b[39;49m)\n",
      "Cell \u001b[0;32mIn[11], line 13\u001b[0m, in \u001b[0;36mkmeans\u001b[0;34m(X, height, width, n_cluster, centroid_method, EPS)\u001b[0m\n\u001b[1;32m     10\u001b[0m     euclid_dist \u001b[39m=\u001b[39m []\n\u001b[1;32m     11\u001b[0m     \u001b[39mfor\u001b[39;00m j \u001b[39min\u001b[39;00m \u001b[39mrange\u001b[39m(n_cluster):\n\u001b[1;32m     12\u001b[0m         \u001b[39m#euclid_dist.append(np.sqrt(np.sum((X[i] - init_mean[j]) ** 2)))\u001b[39;00m\n\u001b[0;32m---> 13\u001b[0m         euclid_dist\u001b[39m.\u001b[39mappend(euclidean(init_mean[j], X))\n\u001b[1;32m     14\u001b[0m     assigned_cluster[i] \u001b[39m=\u001b[39m np\u001b[39m.\u001b[39margmin(euclid_dist)\n\u001b[1;32m     16\u001b[0m \u001b[39m# M step\u001b[39;00m\n",
      "Cell \u001b[0;32mIn[7], line 2\u001b[0m, in \u001b[0;36meuclidean\u001b[0;34m(point, data)\u001b[0m\n\u001b[1;32m      1\u001b[0m \u001b[39mdef\u001b[39;00m \u001b[39meuclidean\u001b[39m(point, data):\n\u001b[0;32m----> 2\u001b[0m     \u001b[39mreturn\u001b[39;00m np\u001b[39m.\u001b[39msqrt(np\u001b[39m.\u001b[39;49msum((point \u001b[39m-\u001b[39;49m data) \u001b[39m*\u001b[39;49m\u001b[39m*\u001b[39;49m \u001b[39m2\u001b[39;49m, axis\u001b[39m=\u001b[39;49m\u001b[39m1\u001b[39;49m))\n",
      "File \u001b[0;32m<__array_function__ internals>:177\u001b[0m, in \u001b[0;36msum\u001b[0;34m(*args, **kwargs)\u001b[0m\n",
      "\u001b[0;31mKeyboardInterrupt\u001b[0m: "
     ]
    }
   ],
   "source": [
    "W = kernel_function(img1, width=100, gamma_s=0.001, gamma_c=0.00007)\n",
    "assigned_cluster, segment = kmeans(W, height=100, width=100, n_cluster=2, centroid_method='kmeans++', EPS=1e-9)"
   ]
  },
  {
   "attachments": {},
   "cell_type": "markdown",
   "metadata": {},
   "source": [
    "### make gif"
   ]
  },
  {
   "cell_type": "code",
   "execution_count": null,
   "metadata": {},
   "outputs": [],
   "source": [
    "def save_gif(img_list, gif_path=\"./gif\", gif_name=\"result.gif\", duration=2):\n",
    "    for img in img_list:\n",
    "        img = img[:, :, ::-1]\n",
    "    if not os.path.exists(gif_path):\n",
    "        os.makedirs(gif_path)\n",
    "    mimsave(os.path.join(gif_path, gif_name), img_list, 'GIF', duration=duration)\n",
    "    return"
   ]
  },
  {
   "cell_type": "code",
   "execution_count": null,
   "metadata": {},
   "outputs": [],
   "source": [
    "save_gif(segment, \"./gif\", \"KK_img1_k=2.gif\", duration=2)"
   ]
  },
  {
   "attachments": {},
   "cell_type": "markdown",
   "metadata": {},
   "source": [
    "## Spectral Clustering"
   ]
  },
  {
   "attachments": {},
   "cell_type": "markdown",
   "metadata": {},
   "source": [
    "### Normalized Spectal Clustering\n",
    "<div align=\"center\">\n",
    "<img src=\"./img/normalized_spectral_clustering.png\" width = \"800\" alt=\"normalized spectral clustering\" align=center />\n",
    "</div>"
   ]
  },
  {
   "cell_type": "code",
   "execution_count": null,
   "metadata": {},
   "outputs": [],
   "source": [
    "n_cluster=2"
   ]
  },
  {
   "cell_type": "code",
   "execution_count": null,
   "metadata": {},
   "outputs": [],
   "source": [
    "W = kernel_function(img1, width=100, gamma_s=0.001, gamma_c=0.00007)\n",
    "D = np.diag(np.sum(W, axis=1))\n",
    "L = D - W\n",
    "D_inverse_sqrt = np.diag(1 / np.diag(np.sqrt(D)))\n",
    "L_sym = D_inverse_sqrt @ L @ D_inverse_sqrt\n",
    "eigenvalue, eigenvector = np.linalg.eig(L_sym)\n",
    "sort_index = np.argsort(eigenvalue)\n",
    "U = eigenvector[:, sort_index[1:n_cluster+1]]\n",
    "sums = np.linalg.norm(U, axis=1).reshape(-1, 1)\n",
    "T = U / sums\n",
    "assigned_cluster, segment = kmeans(T, height=100, width=100, n_cluster=2, centroid_method='kmeans++', EPS=1e-9)"
   ]
  },
  {
   "cell_type": "code",
   "execution_count": null,
   "metadata": {},
   "outputs": [],
   "source": [
    "save_gif(segment, \"./gif\", \"normalized_SC_img1_k=2.gif\", duration=2)"
   ]
  },
  {
   "attachments": {},
   "cell_type": "markdown",
   "metadata": {},
   "source": [
    "### Unnormalized Spectral Clustering\n",
    "<div align=\"center\">\n",
    "<img src=\"./img/unnormalized_spectral_clustering.png\" width = \"800\" alt=\"unnormalized spectral clustering\" align=center />\n",
    "</div>"
   ]
  },
  {
   "cell_type": "code",
   "execution_count": null,
   "metadata": {},
   "outputs": [],
   "source": [
    "W = kernel_function(img1, width=100, gamma_s=0.001, gamma_c=0.00007)\n",
    "D = np.diag(np.sum(W, axis=1))\n",
    "L = D - W\n",
    "eigenvalue, eigenvector = np.linalg.eig(L)\n",
    "sort_index = np.argsort(eigenvalue)\n",
    "U = eigenvector[:, sort_index[1:n_cluster:1]]"
   ]
  },
  {
   "cell_type": "code",
   "execution_count": null,
   "metadata": {},
   "outputs": [],
   "source": [
    "assigend_cluster, segment = kmeans(U, height=100, width=100, n_cluster=2, centroid_method='kmeans++', EPS=1e-9)"
   ]
  },
  {
   "cell_type": "code",
   "execution_count": null,
   "metadata": {},
   "outputs": [],
   "source": [
    "save_gif(segment, \"./gif\", \"unnormalized_SC_img1_k=2.gif\", duration=2)"
   ]
  }
 ],
 "metadata": {
  "kernelspec": {
   "display_name": ".ML",
   "language": "python",
   "name": "python3"
  },
  "language_info": {
   "codemirror_mode": {
    "name": "ipython",
    "version": 3
   },
   "file_extension": ".py",
   "mimetype": "text/x-python",
   "name": "python",
   "nbconvert_exporter": "python",
   "pygments_lexer": "ipython3",
   "version": "3.10.6"
  },
  "orig_nbformat": 4
 },
 "nbformat": 4,
 "nbformat_minor": 2
}
