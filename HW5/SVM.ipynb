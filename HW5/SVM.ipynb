{
 "cells": [
  {
   "attachments": {},
   "cell_type": "markdown",
   "metadata": {},
   "source": [
    "# SVM"
   ]
  },
  {
   "cell_type": "code",
   "execution_count": 24,
   "metadata": {},
   "outputs": [],
   "source": [
    "import numpy as np\n",
    "import pandas as pd\n",
    "import os\n",
    "from libsvm.svmutil import svm_train, svm_predict, svm_problem\n",
    "import itertools\n",
    "from scipy.spatial.distance import cdist"
   ]
  },
  {
   "attachments": {},
   "cell_type": "markdown",
   "metadata": {},
   "source": [
    "## Part 1.\n",
    "Use SVM models to tackle classification on images of hand-written digits."
   ]
  },
  {
   "cell_type": "code",
   "execution_count": 19,
   "metadata": {},
   "outputs": [],
   "source": [
    "def load_data(data_path):\n",
    "    X_train = pd.read_csv(os.path.join(data_path, \"X_train.csv\"), header=None).to_numpy()\n",
    "    y_train = pd.read_csv(os.path.join(data_path, \"Y_train.csv\"), header=None).to_numpy().reshape(-1)\n",
    "    X_test = pd.read_csv(os.path.join(data_path, \"X_test.csv\"), header=None).to_numpy()\n",
    "    y_test = pd.read_csv(os.path.join(data_path, \"Y_test.csv\"), header=None).to_numpy().reshape(-1)\n",
    "\n",
    "    return X_train, y_train, X_test, y_test"
   ]
  },
  {
   "cell_type": "code",
   "execution_count": 20,
   "metadata": {},
   "outputs": [],
   "source": [
    "X_train, y_train, X_test, y_test = load_data(\"./data\")"
   ]
  },
  {
   "attachments": {},
   "cell_type": "markdown",
   "metadata": {},
   "source": [
    "### svm_train usage\n",
    "<div align=\"center\">\n",
    "<img src=\"./img/svm_train_usage.png\" width = \"600\" alt=\"svm_train usage\" align=center />\n",
    "</div>"
   ]
  },
  {
   "cell_type": "code",
   "execution_count": 21,
   "metadata": {},
   "outputs": [],
   "source": [
    "kernel_type = {\n",
    "    \"linear\": 0,\n",
    "    \"polynomial\": 1,\n",
    "    \"RBF\": 2}"
   ]
  },
  {
   "cell_type": "code",
   "execution_count": 22,
   "metadata": {},
   "outputs": [
    {
     "name": "stdout",
     "output_type": "stream",
     "text": [
      "kernel_type: linear\taccuracy: 95.08\n",
      "kernel_type: polynomial\taccuracy: 34.68\n",
      "kernel_type: RBF\taccuracy: 95.32\n"
     ]
    }
   ],
   "source": [
    "for key, value in kernel_type.items():\n",
    "    m = svm_train(y_train, X_train, f\"-q -t {value}\")\n",
    "    p_labels, p_acc, p_vals = svm_predict(y_test, X_test, m, \"-q\")\n",
    "    print(f\"kernel_type: {key}\\taccuracy: {p_acc[0]:.2f}\")"
   ]
  },
  {
   "attachments": {},
   "cell_type": "markdown",
   "metadata": {},
   "source": [
    "## Part 2\n",
    "Please use C-SVC. Since there are some parameters you need to tune for, please do the grid search for finding parameters of the best performing model. For instance, in C-SVC you have a parameter C, and if you use RBF kernel you have another parameter 𝛾, you can search for a set of (C, 𝛾) which gives you best performance in cross-validation."
   ]
  },
  {
   "cell_type": "code",
   "execution_count": 23,
   "metadata": {},
   "outputs": [],
   "source": [
    "def gridSearch(X_train, y_train, **param):\n",
    "    kernel_type = param.get(\"kernel_type\", 0)\n",
    "    C = param.get(\"C\", [1])\n",
    "    gamma = param.get(\"gamma\", [1 / X_train.shape[1]])\n",
    "    coef0 = param.get(\"coef0\", [0])\n",
    "    degree = param.get(\"degree\", [3])\n",
    "\n",
    "    combinations = [C, gamma, coef0, degree]\n",
    "    best_acc = 0\n",
    "    best_comb = None\n",
    "    for comb in list(itertools.product(*combinations)):\n",
    "        acc = svm_train(y_train, X_train, f\"-q -t {kernel_type} -v 3 -c {comb[0]} -g {comb[1]} -r {comb[2]} -d {comb[3]}\")\n",
    "        if acc > best_acc:\n",
    "            best_acc = acc\n",
    "            best_comb = comb\n",
    "\n",
    "    print(f\"best combination (C, gamma, coef0, degree): {best_comb}\\tbest accuracy: {best_acc}\")\n",
    "    return best_comb, best_acc"
   ]
  },
  {
   "attachments": {},
   "cell_type": "markdown",
   "metadata": {},
   "source": [
    "### Linear kernel"
   ]
  },
  {
   "cell_type": "code",
   "execution_count": 24,
   "metadata": {},
   "outputs": [
    {
     "name": "stdout",
     "output_type": "stream",
     "text": [
      "Cross Validation Accuracy = 79.6%\n",
      "Cross Validation Accuracy = 88.54%\n",
      "Cross Validation Accuracy = 95.22%\n",
      "Cross Validation Accuracy = 96.76%\n",
      "Cross Validation Accuracy = 96.58%\n",
      "Cross Validation Accuracy = 96.2%\n",
      "Cross Validation Accuracy = 96.16%\n",
      "Cross Validation Accuracy = 96.18%\n",
      "Cross Validation Accuracy = 96.14%\n",
      "Cross Validation Accuracy = 96.18%\n",
      "Cross Validation Accuracy = 95.84%\n",
      "best combination (C, gamma, coef0, degree): (0.01, 0.0012755102040816326, 0, 3)\tbest accuracy: 96.76\n"
     ]
    }
   ],
   "source": [
    "param = {\"kernel_type\": kernel_type['linear'], \"C\": [10**x for x in range(-5, 6)]}\n",
    "best_comb, best_acc = gridSearch(X_train, y_train, **param)"
   ]
  },
  {
   "cell_type": "code",
   "execution_count": 25,
   "metadata": {},
   "outputs": [
    {
     "name": "stdout",
     "output_type": "stream",
     "text": [
      "linear kernel after grid search accuracy: 95.96\n"
     ]
    }
   ],
   "source": [
    "m = svm_train(y_train, X_train, f\"-q -t 0 -c {best_comb[0]}\")\n",
    "p_labels, p_acc, p_vals = svm_predict(y_test, X_test, m, \"-q\")\n",
    "print(f\"linear kernel after grid search accuracy: {p_acc[0]:.2f}\")"
   ]
  },
  {
   "attachments": {},
   "cell_type": "markdown",
   "metadata": {},
   "source": [
    "### Polynomial kernel"
   ]
  },
  {
   "cell_type": "code",
   "execution_count": 26,
   "metadata": {},
   "outputs": [
    {
     "name": "stdout",
     "output_type": "stream",
     "text": [
      "Cross Validation Accuracy = 0.22%\n",
      "Cross Validation Accuracy = 81.86%\n",
      "Cross Validation Accuracy = 0.22%\n",
      "Cross Validation Accuracy = 45.96%\n",
      "Cross Validation Accuracy = 28.7%\n",
      "Cross Validation Accuracy = 23.78%\n",
      "Cross Validation Accuracy = 78.4%\n",
      "Cross Validation Accuracy = 77.18%\n",
      "Cross Validation Accuracy = 75.3%\n",
      "Cross Validation Accuracy = 0.28%\n",
      "Cross Validation Accuracy = 84.96%\n",
      "Cross Validation Accuracy = 0.56%\n",
      "Cross Validation Accuracy = 46%\n",
      "Cross Validation Accuracy = 28.64%\n",
      "Cross Validation Accuracy = 23.88%\n",
      "Cross Validation Accuracy = 69.68%\n",
      "Cross Validation Accuracy = 75.9%\n",
      "Cross Validation Accuracy = 83.56%\n",
      "Cross Validation Accuracy = 91.48%\n",
      "Cross Validation Accuracy = 92.28%\n",
      "Cross Validation Accuracy = 91.78%\n",
      "Cross Validation Accuracy = 94.3%\n",
      "Cross Validation Accuracy = 96.08%\n",
      "Cross Validation Accuracy = 96.04%\n",
      "Cross Validation Accuracy = 95.3%\n",
      "Cross Validation Accuracy = 97.5%\n",
      "Cross Validation Accuracy = 97.4%\n",
      "Cross Validation Accuracy = 98.14%\n",
      "Cross Validation Accuracy = 97.12%\n",
      "Cross Validation Accuracy = 96.04%\n",
      "Cross Validation Accuracy = 98.18%\n",
      "Cross Validation Accuracy = 97.66%\n",
      "Cross Validation Accuracy = 96.32%\n",
      "Cross Validation Accuracy = 97.88%\n",
      "Cross Validation Accuracy = 97.64%\n",
      "Cross Validation Accuracy = 96.58%\n",
      "Cross Validation Accuracy = 97.98%\n",
      "Cross Validation Accuracy = 97.44%\n",
      "Cross Validation Accuracy = 96.02%\n",
      "Cross Validation Accuracy = 98.08%\n",
      "Cross Validation Accuracy = 97.54%\n",
      "Cross Validation Accuracy = 96.16%\n",
      "Cross Validation Accuracy = 98.04%\n",
      "Cross Validation Accuracy = 97.62%\n",
      "Cross Validation Accuracy = 96.48%\n",
      "Cross Validation Accuracy = 97.98%\n",
      "Cross Validation Accuracy = 97.48%\n",
      "Cross Validation Accuracy = 96.26%\n",
      "Cross Validation Accuracy = 97.88%\n",
      "Cross Validation Accuracy = 97.34%\n",
      "Cross Validation Accuracy = 96.26%\n",
      "Cross Validation Accuracy = 97.94%\n",
      "Cross Validation Accuracy = 97.5%\n",
      "Cross Validation Accuracy = 96.08%\n",
      "Cross Validation Accuracy = 97.96%\n",
      "Cross Validation Accuracy = 97.38%\n",
      "Cross Validation Accuracy = 96.46%\n",
      "Cross Validation Accuracy = 97.96%\n",
      "Cross Validation Accuracy = 97.4%\n",
      "Cross Validation Accuracy = 96.18%\n",
      "Cross Validation Accuracy = 97.88%\n",
      "Cross Validation Accuracy = 97.42%\n",
      "Cross Validation Accuracy = 96.34%\n",
      "Cross Validation Accuracy = 0.24%\n",
      "Cross Validation Accuracy = 82.04%\n",
      "Cross Validation Accuracy = 0.18%\n",
      "Cross Validation Accuracy = 46.04%\n",
      "Cross Validation Accuracy = 28.44%\n",
      "Cross Validation Accuracy = 23.84%\n",
      "Cross Validation Accuracy = 78.34%\n",
      "Cross Validation Accuracy = 77.06%\n",
      "Cross Validation Accuracy = 76.9%\n",
      "Cross Validation Accuracy = 0.36%\n",
      "Cross Validation Accuracy = 89.22%\n",
      "Cross Validation Accuracy = 0.56%\n",
      "Cross Validation Accuracy = 77.8%\n",
      "Cross Validation Accuracy = 58.78%\n",
      "Cross Validation Accuracy = 45.46%\n",
      "Cross Validation Accuracy = 92.94%\n",
      "Cross Validation Accuracy = 94.48%\n",
      "Cross Validation Accuracy = 95.54%\n",
      "Cross Validation Accuracy = 96.22%\n",
      "Cross Validation Accuracy = 95.74%\n",
      "Cross Validation Accuracy = 93.1%\n",
      "Cross Validation Accuracy = 97.48%\n",
      "Cross Validation Accuracy = 97.3%\n",
      "Cross Validation Accuracy = 96.32%\n",
      "Cross Validation Accuracy = 97.24%\n",
      "Cross Validation Accuracy = 98.02%\n",
      "Cross Validation Accuracy = 97.62%\n",
      "Cross Validation Accuracy = 97.94%\n",
      "Cross Validation Accuracy = 97.38%\n",
      "Cross Validation Accuracy = 96%\n",
      "Cross Validation Accuracy = 97.88%\n",
      "Cross Validation Accuracy = 97.38%\n",
      "Cross Validation Accuracy = 96.06%\n",
      "Cross Validation Accuracy = 97.98%\n",
      "Cross Validation Accuracy = 97.34%\n",
      "Cross Validation Accuracy = 96.6%\n",
      "Cross Validation Accuracy = 98.02%\n",
      "Cross Validation Accuracy = 97.44%\n",
      "Cross Validation Accuracy = 96.22%\n",
      "Cross Validation Accuracy = 97.82%\n",
      "Cross Validation Accuracy = 97.54%\n",
      "Cross Validation Accuracy = 96.08%\n",
      "Cross Validation Accuracy = 98%\n",
      "Cross Validation Accuracy = 97.64%\n",
      "Cross Validation Accuracy = 96.2%\n",
      "Cross Validation Accuracy = 98.08%\n",
      "Cross Validation Accuracy = 97.56%\n",
      "Cross Validation Accuracy = 96.3%\n",
      "Cross Validation Accuracy = 97.9%\n",
      "Cross Validation Accuracy = 97.54%\n",
      "Cross Validation Accuracy = 96.26%\n",
      "Cross Validation Accuracy = 97.66%\n",
      "Cross Validation Accuracy = 97.46%\n",
      "Cross Validation Accuracy = 96.2%\n",
      "Cross Validation Accuracy = 97.82%\n",
      "Cross Validation Accuracy = 97.36%\n",
      "Cross Validation Accuracy = 96%\n",
      "Cross Validation Accuracy = 97.9%\n",
      "Cross Validation Accuracy = 97.36%\n",
      "Cross Validation Accuracy = 95.98%\n",
      "Cross Validation Accuracy = 98%\n",
      "Cross Validation Accuracy = 97.4%\n",
      "Cross Validation Accuracy = 95.98%\n",
      "Cross Validation Accuracy = 0.26%\n",
      "Cross Validation Accuracy = 92.88%\n",
      "Cross Validation Accuracy = 0.24%\n",
      "Cross Validation Accuracy = 46.38%\n",
      "Cross Validation Accuracy = 28.68%\n",
      "Cross Validation Accuracy = 23.62%\n",
      "Cross Validation Accuracy = 92.1%\n",
      "Cross Validation Accuracy = 93.3%\n",
      "Cross Validation Accuracy = 94.12%\n",
      "Cross Validation Accuracy = 0.24%\n",
      "Cross Validation Accuracy = 83.32%\n",
      "Cross Validation Accuracy = 0.4%\n",
      "Cross Validation Accuracy = 94.36%\n",
      "Cross Validation Accuracy = 89.34%\n",
      "Cross Validation Accuracy = 79.36%\n",
      "Cross Validation Accuracy = 96.42%\n",
      "Cross Validation Accuracy = 97.2%\n",
      "Cross Validation Accuracy = 97.62%\n",
      "Cross Validation Accuracy = 96.44%\n",
      "Cross Validation Accuracy = 95.38%\n",
      "Cross Validation Accuracy = 92.62%\n",
      "Cross Validation Accuracy = 98%\n",
      "Cross Validation Accuracy = 97.42%\n",
      "Cross Validation Accuracy = 96.04%\n",
      "Cross Validation Accuracy = 97.88%\n",
      "Cross Validation Accuracy = 97.88%\n",
      "Cross Validation Accuracy = 97.46%\n",
      "Cross Validation Accuracy = 97.86%\n",
      "Cross Validation Accuracy = 97.12%\n",
      "Cross Validation Accuracy = 95.9%\n",
      "Cross Validation Accuracy = 98.1%\n",
      "Cross Validation Accuracy = 97.22%\n",
      "Cross Validation Accuracy = 96.32%\n",
      "Cross Validation Accuracy = 97.82%\n",
      "Cross Validation Accuracy = 97.52%\n",
      "Cross Validation Accuracy = 96.36%\n",
      "Cross Validation Accuracy = 98.08%\n",
      "Cross Validation Accuracy = 97.54%\n",
      "Cross Validation Accuracy = 96.4%\n",
      "Cross Validation Accuracy = 98.02%\n",
      "Cross Validation Accuracy = 97.54%\n",
      "Cross Validation Accuracy = 96.08%\n",
      "Cross Validation Accuracy = 97.94%\n",
      "Cross Validation Accuracy = 97.6%\n",
      "Cross Validation Accuracy = 96.26%\n",
      "Cross Validation Accuracy = 98.08%\n",
      "Cross Validation Accuracy = 97.52%\n",
      "Cross Validation Accuracy = 96.08%\n",
      "Cross Validation Accuracy = 97.96%\n",
      "Cross Validation Accuracy = 97.48%\n",
      "Cross Validation Accuracy = 96.1%\n",
      "Cross Validation Accuracy = 97.94%\n",
      "Cross Validation Accuracy = 97.28%\n",
      "Cross Validation Accuracy = 96.12%\n",
      "Cross Validation Accuracy = 97.86%\n",
      "Cross Validation Accuracy = 97.32%\n",
      "Cross Validation Accuracy = 96.3%\n",
      "Cross Validation Accuracy = 97.9%\n",
      "Cross Validation Accuracy = 97.64%\n",
      "Cross Validation Accuracy = 96.04%\n",
      "Cross Validation Accuracy = 97.88%\n",
      "Cross Validation Accuracy = 97.4%\n",
      "Cross Validation Accuracy = 96.1%\n",
      "Cross Validation Accuracy = 0.2%\n",
      "Cross Validation Accuracy = 95.94%\n",
      "Cross Validation Accuracy = 0.18%\n",
      "Cross Validation Accuracy = 77.72%\n",
      "Cross Validation Accuracy = 28.32%\n",
      "Cross Validation Accuracy = 23.86%\n",
      "Cross Validation Accuracy = 96.08%\n",
      "Cross Validation Accuracy = 96.36%\n",
      "Cross Validation Accuracy = 96.68%\n",
      "Cross Validation Accuracy = 0.24%\n",
      "Cross Validation Accuracy = 80.28%\n",
      "Cross Validation Accuracy = 0.38%\n",
      "Cross Validation Accuracy = 97.42%\n",
      "Cross Validation Accuracy = 96.12%\n",
      "Cross Validation Accuracy = 92.32%\n",
      "Cross Validation Accuracy = 97.48%\n",
      "Cross Validation Accuracy = 97.72%\n",
      "Cross Validation Accuracy = 97.74%\n",
      "Cross Validation Accuracy = 94.84%\n",
      "Cross Validation Accuracy = 95.12%\n",
      "Cross Validation Accuracy = 92.4%\n",
      "Cross Validation Accuracy = 98.14%\n",
      "Cross Validation Accuracy = 97.42%\n",
      "Cross Validation Accuracy = 96.36%\n",
      "Cross Validation Accuracy = 98.08%\n",
      "Cross Validation Accuracy = 97.8%\n",
      "Cross Validation Accuracy = 97.28%\n",
      "Cross Validation Accuracy = 97.8%\n",
      "Cross Validation Accuracy = 97.42%\n",
      "Cross Validation Accuracy = 95.74%\n",
      "Cross Validation Accuracy = 98%\n",
      "Cross Validation Accuracy = 97.56%\n",
      "Cross Validation Accuracy = 96.14%\n",
      "Cross Validation Accuracy = 97.9%\n",
      "Cross Validation Accuracy = 97.38%\n",
      "Cross Validation Accuracy = 96.5%\n",
      "Cross Validation Accuracy = 98.06%\n",
      "Cross Validation Accuracy = 97.4%\n",
      "Cross Validation Accuracy = 96.24%\n",
      "Cross Validation Accuracy = 97.7%\n",
      "Cross Validation Accuracy = 97.48%\n",
      "Cross Validation Accuracy = 95.98%\n",
      "Cross Validation Accuracy = 97.68%\n",
      "Cross Validation Accuracy = 97.38%\n",
      "Cross Validation Accuracy = 96.38%\n",
      "Cross Validation Accuracy = 97.9%\n",
      "Cross Validation Accuracy = 97.56%\n",
      "Cross Validation Accuracy = 96.14%\n",
      "Cross Validation Accuracy = 97.96%\n",
      "Cross Validation Accuracy = 97.52%\n",
      "Cross Validation Accuracy = 96.04%\n",
      "Cross Validation Accuracy = 97.62%\n",
      "Cross Validation Accuracy = 97.44%\n",
      "Cross Validation Accuracy = 95.98%\n",
      "Cross Validation Accuracy = 97.84%\n",
      "Cross Validation Accuracy = 97.56%\n",
      "Cross Validation Accuracy = 96.18%\n",
      "Cross Validation Accuracy = 98.06%\n",
      "Cross Validation Accuracy = 97.38%\n",
      "Cross Validation Accuracy = 96.2%\n",
      "Cross Validation Accuracy = 98.1%\n",
      "Cross Validation Accuracy = 97.52%\n",
      "Cross Validation Accuracy = 96.18%\n",
      "Cross Validation Accuracy = 0.2%\n",
      "Cross Validation Accuracy = 96.92%\n",
      "Cross Validation Accuracy = 0.18%\n",
      "Cross Validation Accuracy = 94.34%\n",
      "Cross Validation Accuracy = 58.88%\n",
      "Cross Validation Accuracy = 23.96%\n",
      "Cross Validation Accuracy = 97%\n",
      "Cross Validation Accuracy = 97.08%\n",
      "Cross Validation Accuracy = 97.12%\n",
      "Cross Validation Accuracy = 0.28%\n",
      "Cross Validation Accuracy = 77.14%\n",
      "Cross Validation Accuracy = 0.36%\n",
      "Cross Validation Accuracy = 97.92%\n",
      "Cross Validation Accuracy = 97.56%\n",
      "Cross Validation Accuracy = 96.06%\n",
      "Cross Validation Accuracy = 97.52%\n",
      "Cross Validation Accuracy = 97.92%\n",
      "Cross Validation Accuracy = 97.68%\n",
      "Cross Validation Accuracy = 93.6%\n",
      "Cross Validation Accuracy = 94.88%\n",
      "Cross Validation Accuracy = 92.12%\n",
      "Cross Validation Accuracy = 98.06%\n",
      "Cross Validation Accuracy = 97.52%\n",
      "Cross Validation Accuracy = 96.02%\n",
      "Cross Validation Accuracy = 97.84%\n",
      "Cross Validation Accuracy = 97.92%\n",
      "Cross Validation Accuracy = 97.56%\n",
      "Cross Validation Accuracy = 97.86%\n",
      "Cross Validation Accuracy = 97.4%\n",
      "Cross Validation Accuracy = 95.96%\n",
      "Cross Validation Accuracy = 97.72%\n",
      "Cross Validation Accuracy = 97.46%\n",
      "Cross Validation Accuracy = 95.94%\n",
      "Cross Validation Accuracy = 98.02%\n",
      "Cross Validation Accuracy = 97.6%\n",
      "Cross Validation Accuracy = 96.54%\n",
      "Cross Validation Accuracy = 97.7%\n",
      "Cross Validation Accuracy = 97.34%\n",
      "Cross Validation Accuracy = 96.1%\n",
      "Cross Validation Accuracy = 98.08%\n",
      "Cross Validation Accuracy = 97.38%\n",
      "Cross Validation Accuracy = 96.36%\n",
      "Cross Validation Accuracy = 98.1%\n",
      "Cross Validation Accuracy = 97.44%\n",
      "Cross Validation Accuracy = 96.24%\n",
      "Cross Validation Accuracy = 97.8%\n",
      "Cross Validation Accuracy = 97.7%\n",
      "Cross Validation Accuracy = 96.16%\n",
      "Cross Validation Accuracy = 97.94%\n",
      "Cross Validation Accuracy = 97.36%\n",
      "Cross Validation Accuracy = 96.16%\n",
      "Cross Validation Accuracy = 97.88%\n",
      "Cross Validation Accuracy = 97.6%\n",
      "Cross Validation Accuracy = 96.4%\n",
      "Cross Validation Accuracy = 97.9%\n",
      "Cross Validation Accuracy = 97.24%\n",
      "Cross Validation Accuracy = 96.44%\n",
      "Cross Validation Accuracy = 97.94%\n",
      "Cross Validation Accuracy = 97.24%\n",
      "Cross Validation Accuracy = 96.06%\n",
      "Cross Validation Accuracy = 98.06%\n",
      "Cross Validation Accuracy = 97.42%\n",
      "Cross Validation Accuracy = 96.16%\n",
      "Cross Validation Accuracy = 0.22%\n",
      "Cross Validation Accuracy = 95.42%\n",
      "Cross Validation Accuracy = 0.28%\n",
      "Cross Validation Accuracy = 97.48%\n",
      "Cross Validation Accuracy = 89.26%\n",
      "Cross Validation Accuracy = 45.84%\n",
      "Cross Validation Accuracy = 96.8%\n",
      "Cross Validation Accuracy = 97.18%\n",
      "Cross Validation Accuracy = 97%\n",
      "Cross Validation Accuracy = 0.14%\n",
      "Cross Validation Accuracy = 75.12%\n",
      "Cross Validation Accuracy = 0.38%\n",
      "Cross Validation Accuracy = 98.08%\n",
      "Cross Validation Accuracy = 97.38%\n",
      "Cross Validation Accuracy = 96.38%\n",
      "Cross Validation Accuracy = 97.74%\n",
      "Cross Validation Accuracy = 97.98%\n",
      "Cross Validation Accuracy = 97.9%\n",
      "Cross Validation Accuracy = 93.2%\n",
      "Cross Validation Accuracy = 95.16%\n",
      "Cross Validation Accuracy = 92.28%\n",
      "Cross Validation Accuracy = 98.04%\n",
      "Cross Validation Accuracy = 97.42%\n",
      "Cross Validation Accuracy = 96.38%\n",
      "Cross Validation Accuracy = 97.96%\n",
      "Cross Validation Accuracy = 98%\n",
      "Cross Validation Accuracy = 97.46%\n",
      "Cross Validation Accuracy = 97.84%\n",
      "Cross Validation Accuracy = 97.38%\n",
      "Cross Validation Accuracy = 95.9%\n",
      "Cross Validation Accuracy = 97.76%\n",
      "Cross Validation Accuracy = 97.74%\n",
      "Cross Validation Accuracy = 95.94%\n",
      "Cross Validation Accuracy = 97.96%\n",
      "Cross Validation Accuracy = 97.78%\n",
      "Cross Validation Accuracy = 96.2%\n",
      "Cross Validation Accuracy = 97.74%\n",
      "Cross Validation Accuracy = 97.42%\n",
      "Cross Validation Accuracy = 96.26%\n",
      "Cross Validation Accuracy = 98.12%\n",
      "Cross Validation Accuracy = 97.28%\n",
      "Cross Validation Accuracy = 96.3%\n",
      "Cross Validation Accuracy = 97.8%\n",
      "Cross Validation Accuracy = 97.48%\n",
      "Cross Validation Accuracy = 96.18%\n",
      "Cross Validation Accuracy = 98.12%\n",
      "Cross Validation Accuracy = 97.42%\n",
      "Cross Validation Accuracy = 96.22%\n",
      "Cross Validation Accuracy = 97.96%\n",
      "Cross Validation Accuracy = 97.22%\n",
      "Cross Validation Accuracy = 96.38%\n",
      "Cross Validation Accuracy = 97.98%\n",
      "Cross Validation Accuracy = 97.22%\n",
      "Cross Validation Accuracy = 96.1%\n",
      "Cross Validation Accuracy = 98.08%\n",
      "Cross Validation Accuracy = 97.34%\n",
      "Cross Validation Accuracy = 96.1%\n",
      "Cross Validation Accuracy = 97.94%\n",
      "Cross Validation Accuracy = 97.56%\n",
      "Cross Validation Accuracy = 96.22%\n",
      "Cross Validation Accuracy = 97.94%\n",
      "Cross Validation Accuracy = 97.5%\n",
      "Cross Validation Accuracy = 96.28%\n",
      "Cross Validation Accuracy = 0.2%\n",
      "Cross Validation Accuracy = 94.02%\n",
      "Cross Validation Accuracy = 0.18%\n",
      "Cross Validation Accuracy = 97.96%\n",
      "Cross Validation Accuracy = 96.3%\n",
      "Cross Validation Accuracy = 79.48%\n",
      "Cross Validation Accuracy = 96.48%\n",
      "Cross Validation Accuracy = 96.92%\n",
      "Cross Validation Accuracy = 97.2%\n",
      "Cross Validation Accuracy = 0.24%\n",
      "Cross Validation Accuracy = 75.76%\n",
      "Cross Validation Accuracy = 0.42%\n",
      "Cross Validation Accuracy = 97.96%\n",
      "Cross Validation Accuracy = 97.6%\n",
      "Cross Validation Accuracy = 96.12%\n",
      "Cross Validation Accuracy = 97.54%\n",
      "Cross Validation Accuracy = 97.5%\n",
      "Cross Validation Accuracy = 97.78%\n",
      "Cross Validation Accuracy = 92.94%\n",
      "Cross Validation Accuracy = 95.02%\n",
      "Cross Validation Accuracy = 92.02%\n",
      "Cross Validation Accuracy = 97.64%\n",
      "Cross Validation Accuracy = 97.3%\n",
      "Cross Validation Accuracy = 96.38%\n",
      "Cross Validation Accuracy = 98%\n",
      "Cross Validation Accuracy = 98.02%\n",
      "Cross Validation Accuracy = 97.38%\n",
      "Cross Validation Accuracy = 97.78%\n",
      "Cross Validation Accuracy = 97.18%\n",
      "Cross Validation Accuracy = 96.1%\n",
      "Cross Validation Accuracy = 97.86%\n",
      "Cross Validation Accuracy = 97.42%\n",
      "Cross Validation Accuracy = 96.26%\n",
      "Cross Validation Accuracy = 97.86%\n",
      "Cross Validation Accuracy = 97.7%\n",
      "Cross Validation Accuracy = 96.48%\n",
      "Cross Validation Accuracy = 98.06%\n",
      "Cross Validation Accuracy = 97.44%\n",
      "Cross Validation Accuracy = 96.32%\n",
      "Cross Validation Accuracy = 98.06%\n",
      "Cross Validation Accuracy = 97.18%\n",
      "Cross Validation Accuracy = 96.4%\n",
      "Cross Validation Accuracy = 97.94%\n",
      "Cross Validation Accuracy = 97.4%\n",
      "Cross Validation Accuracy = 96.44%\n",
      "Cross Validation Accuracy = 97.86%\n",
      "Cross Validation Accuracy = 97.2%\n",
      "Cross Validation Accuracy = 96.22%\n",
      "Cross Validation Accuracy = 97.84%\n",
      "Cross Validation Accuracy = 97.62%\n",
      "Cross Validation Accuracy = 96.14%\n",
      "Cross Validation Accuracy = 97.96%\n",
      "Cross Validation Accuracy = 97.6%\n",
      "Cross Validation Accuracy = 96.3%\n",
      "Cross Validation Accuracy = 97.88%\n",
      "Cross Validation Accuracy = 97.44%\n",
      "Cross Validation Accuracy = 95.98%\n",
      "Cross Validation Accuracy = 97.94%\n",
      "Cross Validation Accuracy = 97.58%\n",
      "Cross Validation Accuracy = 96.2%\n",
      "Cross Validation Accuracy = 97.72%\n",
      "Cross Validation Accuracy = 97.42%\n",
      "Cross Validation Accuracy = 96.28%\n",
      "best combination (C, gamma, coef0, degree): (0.001, 1, 0, 2)\tbest accuracy: 98.18\n"
     ]
    }
   ],
   "source": [
    "param = {\"kernel_type\": kernel_type['polynomial'], \n",
    "         \"C\": [10**x for x in range(-3, 4)],\n",
    "         \"gamma\": [10**x for x in range(-3, 4)],\n",
    "         \"coef0\": [x for x in range(-1, 2)],\n",
    "         \"degree\": [x for x in range(2, 5)]}\n",
    "best_comb, best_acc = gridSearch(X_train, y_train, **param)"
   ]
  },
  {
   "cell_type": "code",
   "execution_count": 27,
   "metadata": {},
   "outputs": [
    {
     "name": "stdout",
     "output_type": "stream",
     "text": [
      "polynomial kernel after grid search accuracy: 97.76\n"
     ]
    }
   ],
   "source": [
    "m = svm_train(y_train, X_train, f\"-q -t 1 -c {best_comb[0]} -g {best_comb[1]} -r {best_comb[2]} -d {best_comb[3]}\")\n",
    "p_labels, p_acc, p_vals = svm_predict(y_test, X_test, m, \"-q\")\n",
    "print(f\"polynomial kernel after grid search accuracy: {p_acc[0]:.2f}\")"
   ]
  },
  {
   "attachments": {},
   "cell_type": "markdown",
   "metadata": {},
   "source": [
    "### Radial basis kernel"
   ]
  },
  {
   "cell_type": "code",
   "execution_count": 28,
   "metadata": {},
   "outputs": [
    {
     "name": "stdout",
     "output_type": "stream",
     "text": [
      "Cross Validation Accuracy = 81.06%\n",
      "Cross Validation Accuracy = 89.84%\n",
      "Cross Validation Accuracy = 49.82%\n",
      "Cross Validation Accuracy = 20.68%\n",
      "Cross Validation Accuracy = 78.88%\n",
      "Cross Validation Accuracy = 35.98%\n",
      "Cross Validation Accuracy = 20%\n",
      "Cross Validation Accuracy = 80.92%\n",
      "Cross Validation Accuracy = 91.86%\n",
      "Cross Validation Accuracy = 50.6%\n",
      "Cross Validation Accuracy = 20.86%\n",
      "Cross Validation Accuracy = 78.84%\n",
      "Cross Validation Accuracy = 36.08%\n",
      "Cross Validation Accuracy = 20%\n",
      "Cross Validation Accuracy = 91.82%\n",
      "Cross Validation Accuracy = 96.28%\n",
      "Cross Validation Accuracy = 54.84%\n",
      "Cross Validation Accuracy = 20.74%\n",
      "Cross Validation Accuracy = 78.86%\n",
      "Cross Validation Accuracy = 36.08%\n",
      "Cross Validation Accuracy = 20%\n",
      "Cross Validation Accuracy = 95.94%\n",
      "Cross Validation Accuracy = 97.88%\n",
      "Cross Validation Accuracy = 91.2%\n",
      "Cross Validation Accuracy = 30.26%\n",
      "Cross Validation Accuracy = 26.72%\n",
      "Cross Validation Accuracy = 36.1%\n",
      "Cross Validation Accuracy = 20%\n",
      "Cross Validation Accuracy = 97.02%\n",
      "Cross Validation Accuracy = 97.92%\n",
      "Cross Validation Accuracy = 91.6%\n",
      "Cross Validation Accuracy = 31.5%\n",
      "Cross Validation Accuracy = 33.76%\n",
      "Cross Validation Accuracy = 35.78%\n",
      "Cross Validation Accuracy = 20%\n",
      "Cross Validation Accuracy = 97.34%\n",
      "Cross Validation Accuracy = 98.2%\n",
      "Cross Validation Accuracy = 91.78%\n",
      "Cross Validation Accuracy = 31.06%\n",
      "Cross Validation Accuracy = 20.56%\n",
      "Cross Validation Accuracy = 36.04%\n",
      "Cross Validation Accuracy = 20%\n",
      "Cross Validation Accuracy = 96.94%\n",
      "Cross Validation Accuracy = 98.3%\n",
      "Cross Validation Accuracy = 91.7%\n",
      "Cross Validation Accuracy = 31.18%\n",
      "Cross Validation Accuracy = 33.4%\n",
      "Cross Validation Accuracy = 35.98%\n",
      "Cross Validation Accuracy = 20%\n",
      "best combination (C, gamma, coef0, degree): (1000, 0.01, 0, 3)\tbest accuracy: 98.3\n"
     ]
    }
   ],
   "source": [
    "param = {\"kernel_type\": kernel_type['RBF'], \n",
    "         \"C\": [10**x for x in range(-3, 4)],\n",
    "         \"gamma\": [10**x for x in range(-3, 4)]}\n",
    "best_comb, best_acc = gridSearch(X_train, y_train, **param)"
   ]
  },
  {
   "cell_type": "code",
   "execution_count": 29,
   "metadata": {},
   "outputs": [
    {
     "name": "stdout",
     "output_type": "stream",
     "text": [
      "radial basis kernel after grid search accuracy: 97.52\n"
     ]
    }
   ],
   "source": [
    "m = svm_train(y_train, X_train, f\"-q -t 2 -g {best_comb[1]}\")\n",
    "p_labels, p_acc, p_vals = svm_predict(y_test, X_test, m, \"-q\")\n",
    "print(f\"radial basis kernel after grid search accuracy: {p_acc[0]:.2f}\")"
   ]
  },
  {
   "attachments": {},
   "cell_type": "markdown",
   "metadata": {},
   "source": [
    "## Part 3.\n",
    "Use linear kernel + RBF kernel together (therefore a new kernel function) and compare its performance with respect to others."
   ]
  },
  {
   "attachments": {},
   "cell_type": "markdown",
   "metadata": {},
   "source": [
    "### Precomputed kernel usage\n",
    "<div align=\"center\">\n",
    "<img src=\"./img/precomputed_kernel_usage.png\" width = \"400\" alt=\"precomputed kernel usage\" align=center />\n",
    "</div>"
   ]
  },
  {
   "cell_type": "code",
   "execution_count": 30,
   "metadata": {},
   "outputs": [],
   "source": [
    "def linearRBF(X, X_, gamma):\n",
    "    linear = X @ X_.T\n",
    "    RBF = np.exp(-gamma * cdist(X, X_, 'sqeuclidean'))\n",
    "    kernel = linear + RBF\n",
    "    kernel = np.hstack((np.arange(1, len(X)+1).reshape(-1, 1), kernel))\n",
    "\n",
    "    return kernel"
   ]
  },
  {
   "cell_type": "code",
   "execution_count": 23,
   "metadata": {},
   "outputs": [],
   "source": [
    "best_comb = [100, 0.01]"
   ]
  },
  {
   "cell_type": "code",
   "execution_count": 32,
   "metadata": {},
   "outputs": [],
   "source": [
    "K = linearRBF(X_train, X_train, best_comb[1])\n",
    "KK = linearRBF(X_test, X_train, best_comb[1])"
   ]
  },
  {
   "cell_type": "code",
   "execution_count": 33,
   "metadata": {},
   "outputs": [
    {
     "name": "stdout",
     "output_type": "stream",
     "text": [
      "kernel type: linear + RBF kernel\taccuracy: 95.32\n"
     ]
    }
   ],
   "source": [
    "prob = svm_problem(y_train, K, isKernel=True)\n",
    "m = svm_train(prob, f\"-q -t 4 -c {best_comb[0]}\")\n",
    "p_labels, p_acc, p_vals = svm_predict(y_test, KK, m, \"-q\")\n",
    "print(f\"kernel type: linear + RBF kernel\\taccuracy: {p_acc[0]:.2f}\")"
   ]
  },
  {
   "attachments": {},
   "cell_type": "markdown",
   "metadata": {},
   "source": [
    "## Observation"
   ]
  },
  {
   "cell_type": "code",
   "execution_count": 68,
   "metadata": {},
   "outputs": [
    {
     "name": "stdout",
     "output_type": "stream",
     "text": [
      "polynomial kernel after grid search accuracy: 23.72\n"
     ]
    }
   ],
   "source": [
    "m = svm_train(y_train, X_train, f\"-q -t 1 -d 4\")\n",
    "p_labels, p_acc, p_vals = svm_predict(y_test, X_test, m, \"-q\")\n",
    "print(f\"polynomial kernel after grid search accuracy: {p_acc[0]:.2f}\")"
   ]
  },
  {
   "attachments": {},
   "cell_type": "markdown",
   "metadata": {},
   "source": [
    "### linear + polynomial + RBF kernel"
   ]
  },
  {
   "cell_type": "code",
   "execution_count": 29,
   "metadata": {},
   "outputs": [],
   "source": [
    "def linearPolynomialRBF(X, X_, gamma):\n",
    "    linear = X @ X_.T\n",
    "    polynomial = np.power((1 + gamma * (X @ X_.T)), 2)\n",
    "    RBF = np.exp(-gamma * cdist(X, X_, 'sqeuclidean'))\n",
    "    kernel = linear + polynomial + RBF\n",
    "    kernel = np.hstack((np.arange(1, len(X)+1).reshape(-1, 1), kernel))\n",
    "\n",
    "    return kernel"
   ]
  },
  {
   "cell_type": "code",
   "execution_count": 30,
   "metadata": {},
   "outputs": [],
   "source": [
    "K = linearPolynomialRBF(X_train, X_train, best_comb[1])\n",
    "KK = linearPolynomialRBF(X_test, X_train, best_comb[1])"
   ]
  },
  {
   "cell_type": "code",
   "execution_count": 31,
   "metadata": {},
   "outputs": [
    {
     "name": "stdout",
     "output_type": "stream",
     "text": [
      "kernel type: linear + polynomial + RBF kernel\taccuracy: 95.52\n"
     ]
    }
   ],
   "source": [
    "prob = svm_problem(y_train, K, isKernel=True)\n",
    "m = svm_train(prob, f\"-q -t 4 -c {best_comb[0]}\")\n",
    "p_labels, p_acc, p_vals = svm_predict(y_test, KK, m, \"-q\")\n",
    "print(f\"kernel type: linear + polynomial + RBF kernel\\taccuracy: {p_acc[0]:.2f}\")"
   ]
  }
 ],
 "metadata": {
  "kernelspec": {
   "display_name": ".ML",
   "language": "python",
   "name": "python3"
  },
  "language_info": {
   "codemirror_mode": {
    "name": "ipython",
    "version": 3
   },
   "file_extension": ".py",
   "mimetype": "text/x-python",
   "name": "python",
   "nbconvert_exporter": "python",
   "pygments_lexer": "ipython3",
   "version": "3.10.6"
  },
  "orig_nbformat": 4
 },
 "nbformat": 4,
 "nbformat_minor": 2
}
